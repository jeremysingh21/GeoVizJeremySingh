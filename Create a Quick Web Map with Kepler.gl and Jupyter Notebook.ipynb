{
 "cells": [
  {
   "cell_type": "markdown",
   "metadata": {},
   "source": [
    "Background: This tutorial uses any csv file with latitude and longitude columns in order to plot points on the web map. Make sure your csv file is saved in the same folder this notebook is saved (makes things easier). \n",
    "\n",
    "I recommend downloading the Anaconda Distribution which comes with jupyter notebook.\n",
    "\n",
    "There are 3 main important python libaries that are used in this tutorial\n",
    "\n",
    "1. Pandas: Pandas is a python library that is used for data analysis and manipulation.\n",
    "\n",
    "2. kepler.gl: This a FREE open source web-based application that is capable of handling large scale geospatial data to create beautiful visualizations.\n",
    "\n",
    "3. GeoPandas: Essentially, geopandas is an extension of Pandas; fully capable of handling and processing of geospatial data.\n",
    "\n",
    "First step is to navigate to the folder where you want this notebook to be saved from the main directory when juypter notebook is launched. Then click 'new' -> Python 3, a tab will open up with your notebook (See image below).\n",
    "\n",
    "Next, using the terminal it is important to have these libraries installed to ensure that this tutorial works and everything runs smoothly.\n",
    "\n",
    "For more information on jupyter notebook see: https://jupyter.org/\n",
    "\n",
    "Navigate back to the directory and open a terminal prompt via the 'new' Tab'. \n",
    "\n",
    "A new tab will open up, this will function very similarly to the command prompt on windows. Next type \"pip install pandas keplergl geopandas\" (do not include quotes). This process will help install these libraries.\n"
   ]
  },
  {
   "cell_type": "code",
   "execution_count": null,
   "metadata": {
    "scrolled": true
   },
   "outputs": [],
   "source": [
    "import pandas as pd #importing the Pandas Library as 'pd'\n",
    "from keplergl import KeplerGl #importing KeplerGl\n",
    "import geopandas as gpd #importing geopandas as 'gpd'\n",
    "#Pandas in action below\n",
    "df = pd.read_csv(\"Active_construction.csv\")#Reading the active construction data set into pandas for processing\n",
    "df.head()#Checking to see if data was properly imported!"
   ]
  },
  {
   "cell_type": "markdown",
   "metadata": {},
   "source": [
    "Everything Works! So far... Next we want to create a placeholder map using Kepler.gl!"
   ]
  },
  {
   "cell_type": "code",
   "execution_count": null,
   "metadata": {},
   "outputs": [],
   "source": [
    "#Create a basemap \n",
    "map = KeplerGl(height=600, width=800)\n",
    "map #show the map"
   ]
  },
  {
   "cell_type": "markdown",
   "metadata": {},
   "source": [
    "Yup! This works too! Don't worry about the map not being centered on the location where your data lives. That comes next.\n",
    "\n",
    "Now we create a geoenabled dataframe to use our points to our #map"
   ]
  },
  {
   "cell_type": "code",
   "execution_count": null,
   "metadata": {},
   "outputs": [],
   "source": [
    "# Create a geodataframe\n",
    "gdf = gpd.GeoDataFrame(df, geometry=gpd.points_from_xy(df.longitude, df.latitude))\n",
    "#make sure that your latitude and longitude are named as they are in your csv"
   ]
  },
  {
   "cell_type": "code",
   "execution_count": null,
   "metadata": {},
   "outputs": [],
   "source": [
    "map.add_data(data=gdf, name=\"Construction\") #add geoenabled dataframe to map"
   ]
  },
  {
   "cell_type": "markdown",
   "metadata": {},
   "source": [
    "Thats it! Now you can style your map within your new web map."
   ]
  },
  {
   "cell_type": "code",
   "execution_count": null,
   "metadata": {},
   "outputs": [],
   "source": [
    "map.save_to_html(file_name='GeoVizJeremySingh.html') \n",
    "# if you wish to save your map as an .html you can run this command"
   ]
  }
 ],
 "metadata": {
  "kernelspec": {
   "display_name": "Python 3",
   "language": "python",
   "name": "python3"
  },
  "language_info": {
   "codemirror_mode": {
    "name": "ipython",
    "version": 3
   },
   "file_extension": ".py",
   "mimetype": "text/x-python",
   "name": "python",
   "nbconvert_exporter": "python",
   "pygments_lexer": "ipython3",
   "version": "3.7.4"
  }
 },
 "nbformat": 4,
 "nbformat_minor": 2
}
